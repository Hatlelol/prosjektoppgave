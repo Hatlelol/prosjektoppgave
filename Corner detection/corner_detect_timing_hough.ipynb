{
 "cells": [
  {
   "cell_type": "code",
   "execution_count": 1,
   "metadata": {},
   "outputs": [],
   "source": [
    "import numpy as np\n",
    "from corner_detect_timing import runIterationsHough\n"
   ]
  },
  {
   "cell_type": "code",
   "execution_count": 2,
   "metadata": {},
   "outputs": [
    {
     "name": "stdout",
     "output_type": "stream",
     "text": [
      "starting iterations\n",
      "iteration 0 of 10000\n",
      "iteration 100 of 10000\n",
      "iteration 200 of 10000\n",
      "iteration 300 of 10000\n",
      "iteration 400 of 10000\n",
      "iteration 500 of 10000\n",
      "iteration 600 of 10000\n",
      "iteration 700 of 10000\n",
      "iteration 800 of 10000\n",
      "iteration 900 of 10000\n",
      "iteration 1000 of 10000\n",
      "iteration 1100 of 10000\n",
      "iteration 1200 of 10000\n",
      "iteration 1300 of 10000\n",
      "iteration 1400 of 10000\n",
      "iteration 1500 of 10000\n",
      "iteration 1600 of 10000\n",
      "iteration 1700 of 10000\n",
      "iteration 1800 of 10000\n",
      "iteration 1900 of 10000\n",
      "iteration 2000 of 10000\n",
      "iteration 2100 of 10000\n",
      "iteration 2200 of 10000\n",
      "iteration 2300 of 10000\n",
      "iteration 2400 of 10000\n",
      "iteration 2500 of 10000\n",
      "iteration 2600 of 10000\n",
      "iteration 2700 of 10000\n",
      "iteration 2800 of 10000\n",
      "iteration 2900 of 10000\n",
      "iteration 3000 of 10000\n",
      "iteration 3100 of 10000\n",
      "iteration 3200 of 10000\n",
      "iteration 3300 of 10000\n",
      "iteration 3400 of 10000\n",
      "iteration 3500 of 10000\n",
      "iteration 3600 of 10000\n",
      "iteration 3700 of 10000\n",
      "iteration 3800 of 10000\n",
      "iteration 3900 of 10000\n",
      "iteration 4000 of 10000\n",
      "iteration 4100 of 10000\n",
      "iteration 4200 of 10000\n",
      "iteration 4300 of 10000\n",
      "iteration 4400 of 10000\n",
      "iteration 4500 of 10000\n",
      "iteration 4600 of 10000\n",
      "iteration 4700 of 10000\n",
      "iteration 4800 of 10000\n",
      "iteration 4900 of 10000\n",
      "iteration 5000 of 10000\n",
      "iteration 5100 of 10000\n",
      "iteration 5200 of 10000\n",
      "iteration 5300 of 10000\n",
      "iteration 5400 of 10000\n",
      "iteration 5500 of 10000\n",
      "iteration 5600 of 10000\n",
      "iteration 5700 of 10000\n",
      "iteration 5800 of 10000\n",
      "iteration 5900 of 10000\n",
      "iteration 6000 of 10000\n",
      "iteration 6100 of 10000\n",
      "iteration 6200 of 10000\n",
      "iteration 6300 of 10000\n",
      "iteration 6400 of 10000\n",
      "iteration 6500 of 10000\n",
      "iteration 6600 of 10000\n",
      "iteration 6700 of 10000\n",
      "iteration 6800 of 10000\n",
      "iteration 6900 of 10000\n",
      "iteration 7000 of 10000\n",
      "iteration 7100 of 10000\n",
      "iteration 7200 of 10000\n",
      "iteration 7300 of 10000\n",
      "iteration 7400 of 10000\n",
      "iteration 7500 of 10000\n",
      "iteration 7600 of 10000\n",
      "iteration 7700 of 10000\n",
      "iteration 7800 of 10000\n",
      "iteration 7900 of 10000\n",
      "iteration 8000 of 10000\n",
      "iteration 8100 of 10000\n",
      "iteration 8200 of 10000\n",
      "iteration 8300 of 10000\n",
      "iteration 8400 of 10000\n",
      "iteration 8500 of 10000\n",
      "iteration 8600 of 10000\n",
      "iteration 8700 of 10000\n",
      "iteration 8800 of 10000\n",
      "iteration 8900 of 10000\n",
      "iteration 9000 of 10000\n",
      "iteration 9100 of 10000\n",
      "iteration 9200 of 10000\n",
      "iteration 9300 of 10000\n",
      "iteration 9400 of 10000\n",
      "iteration 9500 of 10000\n",
      "iteration 9600 of 10000\n",
      "iteration 9700 of 10000\n",
      "iteration 9800 of 10000\n",
      "iteration 9900 of 10000\n"
     ]
    }
   ],
   "source": [
    "start_time, sub_time, end_time, score = runIterationsHough(10000)"
   ]
  },
  {
   "cell_type": "code",
   "execution_count": 3,
   "metadata": {},
   "outputs": [],
   "source": [
    "s_time = sub_time - start_time\n",
    "e_time = end_time - start_time"
   ]
  },
  {
   "cell_type": "code",
   "execution_count": 4,
   "metadata": {},
   "outputs": [],
   "source": [
    "s_time_error = s_time[np.where(score != 0)]\n",
    "s_time_correct = s_time[np.where(score == 0)]\n",
    "e_time_error = e_time[np.where(score != 0)]\n",
    "e_time_correct = e_time[np.where(score == 0)]"
   ]
  },
  {
   "cell_type": "code",
   "execution_count": 6,
   "metadata": {},
   "outputs": [
    {
     "name": "stdout",
     "output_type": "stream",
     "text": [
      "0.0602\n"
     ]
    }
   ],
   "source": [
    "print(len(s_time_error)/10000)"
   ]
  },
  {
   "cell_type": "code",
   "execution_count": 7,
   "metadata": {},
   "outputs": [
    {
     "name": "stdout",
     "output_type": "stream",
     "text": [
      "0.16785430908203125 7048\n",
      "0.18187427520751953 5355\n",
      "0.007233381271362305 512\n",
      "0.008988618850708008 3260\n",
      "0.11036872863769531 393\n",
      "0.13898301124572754 393\n",
      "0.010036230087280273 127\n",
      "0.010036230087280273 127\n"
     ]
    }
   ],
   "source": [
    "print(np.amax(s_time_correct), np.argmax(s_time_correct))\n",
    "print(np.amax(e_time_correct), np.argmax(e_time_correct))\n",
    "print(np.amin(s_time_correct), np.argmin(s_time_correct))\n",
    "print(np.amin(e_time_correct), np.argmin(e_time_correct))\n",
    "\n",
    "\n",
    "print(np.amax(s_time_error), np.argmax(s_time_error))\n",
    "print(np.amax(e_time_error), np.argmax(e_time_error))\n",
    "print(np.amin(s_time_error), np.argmin(s_time_error))\n",
    "print(np.amin(e_time_error), np.argmin(e_time_error))\n"
   ]
  },
  {
   "cell_type": "code",
   "execution_count": 8,
   "metadata": {},
   "outputs": [
    {
     "name": "stdout",
     "output_type": "stream",
     "text": [
      "0.02762947376293435\n",
      "0.03349603556856041\n",
      "0.009700894240380512\n",
      "0.01107309515382983\n",
      "\n",
      "0.027260246466956663\n",
      "0.031781908681622374\n",
      "0.009191480608577569\n",
      "0.010520885817790317\n"
     ]
    }
   ],
   "source": [
    "print(np.mean(s_time_correct))\n",
    "print(np.mean(e_time_correct))\n",
    "print(np.std(s_time_correct))\n",
    "print(np.std(e_time_correct))\n",
    "print()\n",
    "print(np.mean(s_time_error))\n",
    "print(np.mean(e_time_error))\n",
    "print(np.std(s_time_error))\n",
    "print(np.std(e_time_error))"
   ]
  }
 ],
 "metadata": {
  "kernelspec": {
   "display_name": "machinevision",
   "language": "python",
   "name": "python3"
  },
  "language_info": {
   "codemirror_mode": {
    "name": "ipython",
    "version": 3
   },
   "file_extension": ".py",
   "mimetype": "text/x-python",
   "name": "python",
   "nbconvert_exporter": "python",
   "pygments_lexer": "ipython3",
   "version": "3.9.18"
  }
 },
 "nbformat": 4,
 "nbformat_minor": 2
}
