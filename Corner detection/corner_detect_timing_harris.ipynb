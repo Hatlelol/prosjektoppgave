{
 "cells": [
  {
   "cell_type": "code",
   "execution_count": 1,
   "metadata": {},
   "outputs": [],
   "source": [
    "import numpy as np\n",
    "from corner_detect_timing import runIterationsHarris\n",
    "\n"
   ]
  },
  {
   "cell_type": "code",
   "execution_count": 2,
   "metadata": {},
   "outputs": [
    {
     "name": "stdout",
     "output_type": "stream",
     "text": [
      "starting iterations\n",
      "iteration 0 of 10000\n",
      "iteration 100 of 10000\n",
      "iteration 200 of 10000\n",
      "iteration 300 of 10000\n",
      "iteration 400 of 10000\n",
      "iteration 500 of 10000\n",
      "iteration 600 of 10000\n",
      "iteration 700 of 10000\n",
      "iteration 800 of 10000\n",
      "iteration 900 of 10000\n",
      "iteration 1000 of 10000\n",
      "iteration 1100 of 10000\n",
      "iteration 1200 of 10000\n",
      "iteration 1300 of 10000\n",
      "iteration 1400 of 10000\n",
      "iteration 1500 of 10000\n",
      "iteration 1600 of 10000\n",
      "iteration 1700 of 10000\n",
      "iteration 1800 of 10000\n",
      "iteration 1900 of 10000\n",
      "iteration 2000 of 10000\n",
      "iteration 2100 of 10000\n",
      "iteration 2200 of 10000\n",
      "iteration 2300 of 10000\n",
      "iteration 2400 of 10000\n",
      "iteration 2500 of 10000\n",
      "iteration 2600 of 10000\n",
      "iteration 2700 of 10000\n",
      "iteration 2800 of 10000\n",
      "iteration 2900 of 10000\n",
      "iteration 3000 of 10000\n",
      "iteration 3100 of 10000\n",
      "iteration 3200 of 10000\n",
      "iteration 3300 of 10000\n",
      "iteration 3400 of 10000\n",
      "iteration 3500 of 10000\n",
      "iteration 3600 of 10000\n",
      "iteration 3700 of 10000\n",
      "iteration 3800 of 10000\n",
      "iteration 3900 of 10000\n",
      "iteration 4000 of 10000\n",
      "iteration 4100 of 10000\n",
      "iteration 4200 of 10000\n",
      "iteration 4300 of 10000\n",
      "iteration 4400 of 10000\n",
      "iteration 4500 of 10000\n",
      "iteration 4600 of 10000\n",
      "iteration 4700 of 10000\n",
      "iteration 4800 of 10000\n",
      "iteration 4900 of 10000\n",
      "iteration 5000 of 10000\n",
      "iteration 5100 of 10000\n",
      "iteration 5200 of 10000\n",
      "iteration 5300 of 10000\n",
      "iteration 5400 of 10000\n",
      "iteration 5500 of 10000\n",
      "iteration 5600 of 10000\n",
      "iteration 5700 of 10000\n",
      "iteration 5800 of 10000\n",
      "iteration 5900 of 10000\n",
      "iteration 6000 of 10000\n",
      "iteration 6100 of 10000\n",
      "iteration 6200 of 10000\n",
      "iteration 6300 of 10000\n",
      "iteration 6400 of 10000\n",
      "iteration 6500 of 10000\n",
      "iteration 6600 of 10000\n",
      "iteration 6700 of 10000\n",
      "iteration 6800 of 10000\n",
      "iteration 6900 of 10000\n",
      "iteration 7000 of 10000\n",
      "iteration 7100 of 10000\n",
      "iteration 7200 of 10000\n",
      "iteration 7300 of 10000\n",
      "iteration 7400 of 10000\n",
      "iteration 7500 of 10000\n",
      "iteration 7600 of 10000\n",
      "iteration 7700 of 10000\n",
      "iteration 7800 of 10000\n",
      "iteration 7900 of 10000\n",
      "iteration 8000 of 10000\n",
      "iteration 8100 of 10000\n",
      "iteration 8200 of 10000\n",
      "iteration 8300 of 10000\n",
      "iteration 8400 of 10000\n",
      "iteration 8500 of 10000\n",
      "iteration 8600 of 10000\n",
      "iteration 8700 of 10000\n",
      "iteration 8800 of 10000\n",
      "iteration 8900 of 10000\n",
      "iteration 9000 of 10000\n",
      "iteration 9100 of 10000\n",
      "iteration 9200 of 10000\n",
      "iteration 9300 of 10000\n",
      "iteration 9400 of 10000\n",
      "iteration 9500 of 10000\n",
      "iteration 9600 of 10000\n",
      "iteration 9700 of 10000\n",
      "iteration 9800 of 10000\n",
      "iteration 9900 of 10000\n"
     ]
    }
   ],
   "source": [
    "start_time, sub_time, sub_time_2, end_time, score = runIterationsHarris(10000)"
   ]
  },
  {
   "cell_type": "code",
   "execution_count": 11,
   "metadata": {},
   "outputs": [],
   "source": [
    "average_sub_time = np.average(sub_time - start_time)\n",
    "average_sub_time_2 = np.average(sub_time_2 - start_time)\n",
    "average_full_time = np.average(end_time - start_time)\n",
    "average_score = np.average(score)"
   ]
  },
  {
   "cell_type": "code",
   "execution_count": 12,
   "metadata": {},
   "outputs": [
    {
     "name": "stdout",
     "output_type": "stream",
     "text": [
      "0.05500226583480835\n",
      "0.06588422474861146\n",
      "0.0730287672996521\n",
      "0.0855\n"
     ]
    }
   ],
   "source": [
    "print(average_sub_time)\n",
    "print(average_sub_time_2)\n",
    "print(average_full_time)\n",
    "print(average_score)"
   ]
  },
  {
   "cell_type": "code",
   "execution_count": 13,
   "metadata": {},
   "outputs": [
    {
     "name": "stdout",
     "output_type": "stream",
     "text": [
      "(array([ 123,  338,  342,  887, 1112, 1379, 1424, 1428, 1753, 2316, 2402,\n",
      "       2759, 3688, 4020, 4367, 4420, 4425, 5121, 5326, 5479, 5892, 6127,\n",
      "       6648, 6709, 7164, 7785, 7913, 7938, 7981, 8026, 8374, 8769, 8920,\n",
      "       8930, 8931, 9387, 9428, 9570, 9853], dtype=int64),)\n"
     ]
    }
   ],
   "source": [
    "print(np.where(score != 0))"
   ]
  },
  {
   "cell_type": "code",
   "execution_count": 14,
   "metadata": {},
   "outputs": [
    {
     "name": "stdout",
     "output_type": "stream",
     "text": [
      "[24 24 24 24 21 24  2 24 24 24 23 22 22 24 24 21 24 24 24 24  2 24 21 24\n",
      " 22 24 24 24 24 24 24 24 23 24 24  4 24 24 24]\n"
     ]
    }
   ],
   "source": [
    "print(score[np.where(score != 0)])"
   ]
  },
  {
   "cell_type": "code",
   "execution_count": 7,
   "metadata": {},
   "outputs": [
    {
     "name": "stdout",
     "output_type": "stream",
     "text": [
      "0.2774488925933838 5949\n",
      "0.3444805145263672 5948\n",
      "0.38693737983703613 5948\n",
      "0.025539636611938477 272\n",
      "0.03399395942687988 9947\n",
      "0.03586530685424805 9537\n"
     ]
    }
   ],
   "source": [
    "print(np.amax(sub_time - start_time), np.argmax(sub_time - start_time))\n",
    "print(np.amax(sub_time_2 - start_time), np.argmax(sub_time_2 - start_time))\n",
    "print(np.amax(end_time - start_time), np.argmax(end_time - start_time))\n",
    "\n",
    "print(np.amin(sub_time - start_time), np.argmin(sub_time - start_time))\n",
    "print(np.amin(sub_time_2 - start_time), np.argmin(sub_time_2 - start_time))\n",
    "print(np.amin(end_time - start_time), np.argmin(end_time - start_time))\n",
    "\n",
    "\n"
   ]
  },
  {
   "cell_type": "code",
   "execution_count": 8,
   "metadata": {},
   "outputs": [
    {
     "name": "stdout",
     "output_type": "stream",
     "text": [
      "0.05500226583480835 0.01266741099743127\n",
      "0.06588422474861146 0.014948493664097992\n",
      "0.0730287672996521 0.016147824343605385\n"
     ]
    }
   ],
   "source": [
    "print(np.mean(sub_time - start_time), np.std(sub_time - start_time))\n",
    "print(np.mean(sub_time_2 - start_time), np.std(sub_time_2 - start_time))\n",
    "print(np.mean(end_time - start_time), np.std(end_time - start_time))"
   ]
  },
  {
   "cell_type": "code",
   "execution_count": 9,
   "metadata": {},
   "outputs": [
    {
     "name": "stdout",
     "output_type": "stream",
     "text": [
      "0.05725591610639523\n",
      "0.012635118580699925\n",
      "0.05499344218652084\n",
      "0.012666749274833359\n"
     ]
    }
   ],
   "source": [
    "print(np.mean((sub_time - start_time)[np.where(score != 0)]))\n",
    "print(np.std((sub_time - start_time)[np.where(score != 0)]))\n",
    "print(np.mean((sub_time - start_time)[np.where(score == 0)]))\n",
    "print(np.std((sub_time - start_time)[np.where(score == 0)]))"
   ]
  },
  {
   "cell_type": "code",
   "execution_count": 10,
   "metadata": {},
   "outputs": [
    {
     "name": "stdout",
     "output_type": "stream",
     "text": [
      "0.06679099645370092\n",
      "0.014632609971407902\n",
      "0.06588067449296457\n",
      "0.014949609224512644\n"
     ]
    }
   ],
   "source": [
    "print(np.mean((sub_time_2 - start_time)[np.where(score != 0)]))\n",
    "print(np.std((sub_time_2 - start_time)[np.where(score != 0)]))\n",
    "print(np.mean((sub_time_2 - start_time)[np.where(score == 0)]))\n",
    "print(np.std((sub_time_2 - start_time)[np.where(score == 0)]))"
   ]
  }
 ],
 "metadata": {
  "kernelspec": {
   "display_name": "machinevision",
   "language": "python",
   "name": "python3"
  },
  "language_info": {
   "codemirror_mode": {
    "name": "ipython",
    "version": 3
   },
   "file_extension": ".py",
   "mimetype": "text/x-python",
   "name": "python",
   "nbconvert_exporter": "python",
   "pygments_lexer": "ipython3",
   "version": "3.9.18"
  }
 },
 "nbformat": 4,
 "nbformat_minor": 2
}
