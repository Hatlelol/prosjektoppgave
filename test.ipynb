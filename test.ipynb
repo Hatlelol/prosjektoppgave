{
 "cells": [
  {
   "cell_type": "code",
   "execution_count": 1,
   "metadata": {},
   "outputs": [],
   "source": [
    "import numpy as np\n",
    "import cv2 as cv\n",
    "import sys\n",
    "sys.path.insert(0, R'C:\\Users\\sondr\\OneDrive - NTNU\\KodeTesting\\FinishedClass\\Python')\n",
    "from classes import Translation\n",
    "from helpFunctions import *\n",
    "def fft2d(inp):\n",
    "    return np.fft.fft2(inp)\n",
    "\n",
    "def ifft2d(inp):\n",
    "    return np.abs(np.fft.ifft2(inp))\n"
   ]
  },
  {
   "cell_type": "code",
   "execution_count": 2,
   "metadata": {},
   "outputs": [],
   "source": [
    "def gen_arrays(dim1 = (2, 2), dim2 = (4, 4)):\n",
    "    d = np.zeros((5, 5), dtype=np.uint8)\n",
    "    c = np.ones(5, dtype=np.uint8)\n",
    "    k = d.copy()\n",
    "    d[dim1[0], :] = c\n",
    "    d[:,dim1[1]] = c\n",
    "    k[dim2[0], :] = c\n",
    "    k[:, dim2[1]] = c\n",
    "    return d, k"
   ]
  },
  {
   "cell_type": "code",
   "execution_count": 3,
   "metadata": {},
   "outputs": [],
   "source": [
    "\n",
    "def phaseCorrelation(image1, image2):\n",
    "    \"\"\"\n",
    "    Computes the phase correlation between the input images. \n",
    "\n",
    "    image1: NxM input array \n",
    "    image2: NxM input array\n",
    "    \n",
    "\n",
    "    return: the inverse fourier transform of the phases of image1 and image2 subtracted.     \n",
    "    \"\"\"\n",
    "\n",
    "    if image1.shape != image2.shape:\n",
    "        print(\"Image shapes needs to be equal\")\n",
    "        return\n",
    "\n",
    "    G_1 = fft2d(image1)\n",
    "    G_2 = fft2d(image2)\n",
    "    c = G_1*np.conj(G_2)\n",
    "\n",
    "    d = ifft2d(c/np.abs(c))\n",
    "\n",
    "    return np.abs(d)/np.amax(np.abs(d))\n",
    "\n",
    "\n",
    "def getDisplacement(correlation):\n",
    "    vis_fig = np.where(correlation > 10E-10, correlation, 0)\n",
    "\n",
    "    displacement = list(np.unravel_index(correlation.argmax(), correlation.shape))\n",
    "    print(displacement)\n",
    "\n",
    "\n",
    "    if displacement[0] > int(correlation.shape[0]/2):\n",
    "        displacement[0] = -correlation.shape[0] + displacement[0]\n",
    "    if displacement[1] > int(correlation.shape[1]/2):\n",
    "        displacement[1] = -correlation.shape[1] + displacement[1]\n",
    "    return displacement, vis_fig\n"
   ]
  },
  {
   "cell_type": "code",
   "execution_count": 11,
   "metadata": {},
   "outputs": [
    {
     "name": "stdout",
     "output_type": "stream",
     "text": [
      "[[0 0 1 0 0]\n",
      " [0 0 1 0 0]\n",
      " [1 1 1 1 1]\n",
      " [0 0 1 0 0]\n",
      " [0 0 1 0 0]]\n",
      "[[1 0 0 0 0]\n",
      " [1 0 0 0 0]\n",
      " [1 1 1 1 1]\n",
      " [1 0 0 0 0]\n",
      " [1 0 0 0 0]]\n"
     ]
    }
   ],
   "source": [
    "d, k = gen_arrays((2, 2), (2, 0))\n",
    "\n",
    "# d = np.pad(d, ((0, 0), (5, 0)), \"minimum\")\n",
    "# k = np.pad(k, ((0, 0), (0, 5)), \"minimum\")\n",
    "print(d)\n",
    "print(k)"
   ]
  },
  {
   "cell_type": "code",
   "execution_count": 12,
   "metadata": {},
   "outputs": [
    {
     "name": "stdout",
     "output_type": "stream",
     "text": [
      "[[0. 0. 1. 0. 0.]\n",
      " [0. 0. 0. 0. 0.]\n",
      " [0. 0. 0. 0. 0.]\n",
      " [0. 0. 0. 0. 0.]\n",
      " [0. 0. 0. 0. 0.]]\n",
      "(5, 5)\n",
      "[0, 2]\n",
      "[[1.19904087e-16 6.16073068e-17 7.31615629e-01 0.00000000e+00\n",
      "  1.27233689e-18]\n",
      " [5.29140176e-18 4.40498275e-18 1.17996815e-17 2.71850252e-18\n",
      "  7.12995637e-18]\n",
      " [1.51199332e-17 1.53135428e-17 1.80198001e-17 1.31445396e-17\n",
      "  2.89678721e-18]\n",
      " [1.29480316e-17 1.59812563e-17 1.21928066e-17 8.89404038e-18\n",
      "  2.14385274e-18]\n",
      " [2.47816887e-18 7.15022057e-18 3.65537079e-18 8.42152793e-19\n",
      "  2.78830266e-18]]\n",
      "1\n",
      "[10]\n",
      "[0.73161563]\n",
      "10\n",
      "[0, -2]\n",
      "[]\n"
     ]
    }
   ],
   "source": [
    "c = phaseCorrelation(d, k)\n",
    "print(np.where(c > 10E-10, c, 0))\n",
    "print(c.shape)\n",
    "print(list(np.unravel_index(c.argmax(), c.shape)))\n",
    "T = Translation(c, Position(0, 0))\n",
    "print(T.displacement)\n",
    "print(T.peaks)"
   ]
  },
  {
   "cell_type": "code",
   "execution_count": 16,
   "metadata": {},
   "outputs": [],
   "source": [
    "class SnipCoordinates():\n",
    "\n",
    "    x_0 = 0\n",
    "    y_0 = 0\n",
    "    x_1 = 0\n",
    "    y_1 = 0\n",
    "\n",
    "\n",
    "    def __init__(self, x_0, y_0, shape, x_1=None, y_1=None):\n",
    "        self.x_0 = x_0\n",
    "        self.y_0 = y_0\n",
    "        if x_1 is None:\n",
    "            self.x_1 = x_0 + shape[0]\n",
    "        else:\n",
    "            self.x_1 = x_1\n",
    "        if y_1 is None:\n",
    "            self.y_1 = y_0 + shape[1]\n",
    "        else:\n",
    "            self.y_1 = y_1\n",
    "\n",
    "\n",
    "    def addImageToBackground(self, background, image):\n",
    "        background[self.x_0: self.x_1, self.y_0: self.y_1] += image\n",
    "        return background\n",
    "    \n",
    "\n",
    "    def blend(self, background):\n",
    "        background[self.x_0: self.x_1, self.y_0: self.y_1] = background[self.x_0: self.x_1, self.y_0: self.y_1]/2\n",
    "        return background\n",
    "        \n"
   ]
  },
  {
   "cell_type": "code",
   "execution_count": 17,
   "metadata": {},
   "outputs": [],
   "source": [
    "\n",
    "def genOutput(shape, displacement, overlap):\n",
    "    \"\"\"\n",
    "    shape: The shape of the input images to the algorithm\n",
    "    displacement: a touple of 2 with the displacement of picture 1 wrt pixture two in (y, x) directions. can be minus\n",
    "    overlap: the Width of the overlap region. \n",
    "\n",
    "    Returns an array of zeros with shape (shape[0] + abs(displacement[0]), 2*shape[1] - overlap + displacement[1])\n",
    "\n",
    "    This should be the size of the full stitched output image taking the displacement and overlap into account\n",
    "    \n",
    "    \"\"\"\n",
    "    print(f\"shape {shape}\")\n",
    "    print(f\"displacement {displacement}\")\n",
    "    print(f\"overlap {overlap}\")\n",
    "    print((shape[0] + np.abs(displacement[0])))\n",
    "    print(2*shape[1] - overlap + displacement[1])\n",
    "    return np.zeros((shape[0] + np.abs(displacement[0]), 2*shape[1] - overlap + displacement[1]), dtype=np.uint16)\n",
    "\n",
    "\n",
    "def trimInput(img_1: np.ndarray, img_2: np.ndarray, overlap: int, direction=\"RIGHT\"):\n",
    "    \"\"\"\n",
    "    Returns only the overlapping regions of the input images img_1 and img_2\n",
    "    \n",
    "    img_1: Grayscale image 2d array\n",
    "    img_2: Grayscale image 2d array\n",
    "    overlap: maximum overlap between the images in pixels\n",
    "    direction: the orientation of img_2 wrt img_1 \n",
    "\n",
    "    returns: two arrays with either height or width scaled to be overlap + max_error percent of original    \n",
    "    \"\"\"\n",
    "    print(img_1[:, int(img_1.shape[1] - overlap):].shape)\n",
    "    print(img_2[:, :overlap].shape)\n",
    "    if direction == \"RIGHT\":\n",
    "        return img_1[:, int(img_1.shape[1] - overlap):], img_2[:, :overlap]\n",
    "    if direction == \"LEFT\":\n",
    "        return img_1[:, :overlap], img_2[:, int(img_2.shape[1]-overlap):]\n",
    "    if direction == \"TOP\":\n",
    "        pass\n",
    "    if direction == \"UNDER\":\n",
    "        pass\n",
    "    print(f\"Direction {direction} is not implemented yet.\")\n",
    "    \n",
    "\n",
    "def getOverlapPixels(shape, overlap, max_error=0, direction=\"RIGHT\"):\n",
    "    \"\"\"\n",
    "    Computes the number of pixels needed in the overlap by adding overlap and max_error and computing \n",
    "    the overlap based on the input shape and direction\n",
    "\n",
    "    shape: touple of size two with the dimensions needed to compute the overlap\n",
    "    overlap: the overlap in percent\n",
    "    max_error: the max error in percent\n",
    "    direction: the orientation of the overlap, in pracsis if shape[0] or shape[1] will be used\n",
    "\n",
    "    return: (overlap+max_error)*shape[1/0] based on the direction\n",
    "    \n",
    "    \"\"\"\n",
    "    if direction == \"RIGHT\" or direction == \"LEFT\":\n",
    "        return int(shape[1]*(overlap + max_error)/100)\n",
    "    if direction == \"TOP\":\n",
    "        return int(shape[0]*(overlap + max_error)/100)\n",
    "    print(f\"the direction {direction} is not implemented\")\n",
    "\n",
    "def getStitchCoordinates(displacement, input_shape, overlap, direction=\"RIGHT\"):\n",
    "    if direction == \"RIGHT\":\n",
    "        snipImagea = SnipCoordinates(abs(min(displacement[0], 0)), \n",
    "                                    abs(min(displacement[1], 0)), \n",
    "                                    input_shape)\n",
    "        snipImageb = SnipCoordinates(max(displacement[0], 0), \n",
    "                                    input_shape[1] - overlap if displacement[1] < 0 else input_shape[1] - overlap + displacement[1], \n",
    "                                    input_shape)\n",
    "        snipOverlap = SnipCoordinates(max(snipImagea.x_0, snipImageb.x_0),\n",
    "                                        snipImageb.y_0, \n",
    "                                        input_shape, \n",
    "                                        x_1=min(snipImagea.x_1, snipImageb.x_1) + input_shape[0], \n",
    "                                        y_1=snipImagea.y_0 + input_shape[1])\n",
    "    elif direction == \"LEFT\":\n",
    "        snipImagea = SnipCoordinates(max(displacement[0], 0), \n",
    "                                    input_shape[1] - overlap if displacement[1] < 0 else input_shape[1] - overlap + displacement[1], \n",
    "                                    input_shape)\n",
    "        snipImageb = SnipCoordinates(abs(min(displacement[0], 0)), \n",
    "                                    abs(min(displacement[1], 0)), \n",
    "                                    input_shape)\n",
    "        snipOverlap = SnipCoordinates(max(snipImagea.x_0, snipImageb.x_0),\n",
    "                                        snipImageb.x_1, \n",
    "                                        input_shape, \n",
    "                                        x_1=min(snipImagea.x_0, snipImageb.x_0) + input_shape[0], \n",
    "                                        y_1=snipImagea.y_0 + input_shape[1])\n",
    "    # elif direction == \"TOP\":\n",
    "    #     snipImagea = SnipCoordinates(input_shape[0]-overlap + displacement[0] if displacemen[0] > 0 else input_shape[0] - overlap, \n",
    "    #                                 abs(min(displacement[1], 0)), \n",
    "    #                                 input_shape)\n",
    "    #     snipImageb = SnipCoordinates(max(displacement[0], 0), \n",
    "    #                                 input_shape[1] - overlap if displacement[1] < 0 else input_shape[1] - overlap + displacement[1], \n",
    "    #                                 input_shape)\n",
    "    #     snipOverlap = SnipCoordinates(max(snipImagea.x_0, snipImageb.x_0),\n",
    "    #                                     snipImageb.x_1, \n",
    "    #                                     input_shape, \n",
    "    #                                     x_1=min(snipImagea.x_0, snipImageb.x_0) + input_shape[0], \n",
    "    #                                     y_1=snipImagea.y_0 + input_shape[1])\n",
    "\n",
    "\n",
    "\n",
    "    return snipImagea, snipImageb, snipOverlap\n",
    "\n",
    "\n",
    "\n",
    "\n",
    "def stitch(l, r, p_overlap):\n",
    "    dir = \"RIGHT\"\n",
    "    print(p_overlap)\n",
    "    \n",
    "    d_l, k_l = trimInput(l, r, p_overlap, dir)\n",
    "    res = phaseCorrelation(d_l, k_l)\n",
    "\n",
    "\n",
    "    print(np.argmax(res))\n",
    "    displacement, vis_fig = getDisplacement(res)\n",
    "\n",
    "\n",
    "\n",
    "    snip1, snip2, snipOverlap = getStitchCoordinates(displacement, l.shape, p_overlap, dir)\n",
    "    out = genOutput(l.shape, displacement, p_overlap)\n",
    "    print(out.shape)\n",
    "    out = snip1.addImageToBackground(out, l) #TODO: maybe optimize\n",
    "    out = snip2.addImageToBackground(out, r)\n",
    "    out = snipOverlap.blend(out)\n",
    "\n",
    "\n",
    "    return out.astype(np.uint8)"
   ]
  },
  {
   "cell_type": "code",
   "execution_count": 18,
   "metadata": {},
   "outputs": [
    {
     "name": "stdout",
     "output_type": "stream",
     "text": [
      "50\n",
      "(5, 5)\n",
      "(5, 5)\n",
      "2\n",
      "[0, 2]\n",
      "shape (5, 5)\n",
      "displacement [0, 2]\n",
      "overlap 50\n",
      "5\n",
      "-38\n"
     ]
    },
    {
     "ename": "ValueError",
     "evalue": "negative dimensions are not allowed",
     "output_type": "error",
     "traceback": [
      "\u001b[1;31m---------------------------------------------------------------------------\u001b[0m",
      "\u001b[1;31mValueError\u001b[0m                                Traceback (most recent call last)",
      "\u001b[1;32mc:\\Users\\sondr\\OneDrive - NTNU\\KodeTesting\\python\\test.ipynb Cell 8\u001b[0m line \u001b[0;36m4\n\u001b[0;32m      <a href='vscode-notebook-cell:/c%3A/Users/sondr/OneDrive%20-%20NTNU/KodeTesting/python/test.ipynb#X11sZmlsZQ%3D%3D?line=0'>1</a>\u001b[0m overlap \u001b[39m=\u001b[39m \u001b[39m50\u001b[39m\n\u001b[1;32m----> <a href='vscode-notebook-cell:/c%3A/Users/sondr/OneDrive%20-%20NTNU/KodeTesting/python/test.ipynb#X11sZmlsZQ%3D%3D?line=3'>4</a>\u001b[0m out \u001b[39m=\u001b[39m stitch(d, k, overlap, )\n\u001b[0;32m      <a href='vscode-notebook-cell:/c%3A/Users/sondr/OneDrive%20-%20NTNU/KodeTesting/python/test.ipynb#X11sZmlsZQ%3D%3D?line=4'>5</a>\u001b[0m \u001b[39mprint\u001b[39m(out)\n",
      "\u001b[1;32mc:\\Users\\sondr\\OneDrive - NTNU\\KodeTesting\\python\\test.ipynb Cell 8\u001b[0m line \u001b[0;36m1\n\u001b[0;32m    <a href='vscode-notebook-cell:/c%3A/Users/sondr/OneDrive%20-%20NTNU/KodeTesting/python/test.ipynb#X11sZmlsZQ%3D%3D?line=116'>117</a>\u001b[0m displacement, vis_fig \u001b[39m=\u001b[39m getDisplacement(res)\n\u001b[0;32m    <a href='vscode-notebook-cell:/c%3A/Users/sondr/OneDrive%20-%20NTNU/KodeTesting/python/test.ipynb#X11sZmlsZQ%3D%3D?line=120'>121</a>\u001b[0m snip1, snip2, snipOverlap \u001b[39m=\u001b[39m getStitchCoordinates(displacement, l\u001b[39m.\u001b[39mshape, p_overlap, \u001b[39mdir\u001b[39m)\n\u001b[1;32m--> <a href='vscode-notebook-cell:/c%3A/Users/sondr/OneDrive%20-%20NTNU/KodeTesting/python/test.ipynb#X11sZmlsZQ%3D%3D?line=121'>122</a>\u001b[0m out \u001b[39m=\u001b[39m genOutput(l\u001b[39m.\u001b[39;49mshape, displacement, p_overlap)\n\u001b[0;32m    <a href='vscode-notebook-cell:/c%3A/Users/sondr/OneDrive%20-%20NTNU/KodeTesting/python/test.ipynb#X11sZmlsZQ%3D%3D?line=122'>123</a>\u001b[0m \u001b[39mprint\u001b[39m(out\u001b[39m.\u001b[39mshape)\n\u001b[0;32m    <a href='vscode-notebook-cell:/c%3A/Users/sondr/OneDrive%20-%20NTNU/KodeTesting/python/test.ipynb#X11sZmlsZQ%3D%3D?line=123'>124</a>\u001b[0m out \u001b[39m=\u001b[39m snip1\u001b[39m.\u001b[39maddImageToBackground(out, l) \u001b[39m#TODO: maybe optimize\u001b[39;00m\n",
      "\u001b[1;32mc:\\Users\\sondr\\OneDrive - NTNU\\KodeTesting\\python\\test.ipynb Cell 8\u001b[0m line \u001b[0;36m1\n\u001b[0;32m     <a href='vscode-notebook-cell:/c%3A/Users/sondr/OneDrive%20-%20NTNU/KodeTesting/python/test.ipynb#X11sZmlsZQ%3D%3D?line=14'>15</a>\u001b[0m \u001b[39mprint\u001b[39m((shape[\u001b[39m0\u001b[39m] \u001b[39m+\u001b[39m np\u001b[39m.\u001b[39mabs(displacement[\u001b[39m0\u001b[39m])))\n\u001b[0;32m     <a href='vscode-notebook-cell:/c%3A/Users/sondr/OneDrive%20-%20NTNU/KodeTesting/python/test.ipynb#X11sZmlsZQ%3D%3D?line=15'>16</a>\u001b[0m \u001b[39mprint\u001b[39m(\u001b[39m2\u001b[39m\u001b[39m*\u001b[39mshape[\u001b[39m1\u001b[39m] \u001b[39m-\u001b[39m overlap \u001b[39m+\u001b[39m displacement[\u001b[39m1\u001b[39m])\n\u001b[1;32m---> <a href='vscode-notebook-cell:/c%3A/Users/sondr/OneDrive%20-%20NTNU/KodeTesting/python/test.ipynb#X11sZmlsZQ%3D%3D?line=16'>17</a>\u001b[0m \u001b[39mreturn\u001b[39;00m np\u001b[39m.\u001b[39;49mzeros((shape[\u001b[39m0\u001b[39;49m] \u001b[39m+\u001b[39;49m np\u001b[39m.\u001b[39;49mabs(displacement[\u001b[39m0\u001b[39;49m]), \u001b[39m2\u001b[39;49m\u001b[39m*\u001b[39;49mshape[\u001b[39m1\u001b[39;49m] \u001b[39m-\u001b[39;49m overlap \u001b[39m+\u001b[39;49m displacement[\u001b[39m1\u001b[39;49m]), dtype\u001b[39m=\u001b[39;49mnp\u001b[39m.\u001b[39;49muint16)\n",
      "\u001b[1;31mValueError\u001b[0m: negative dimensions are not allowed"
     ]
    }
   ],
   "source": [
    "overlap = 50\n",
    "\n",
    "\n",
    "out = stitch(d, k, overlap )\n",
    "print(out)"
   ]
  },
  {
   "cell_type": "code",
   "execution_count": 15,
   "metadata": {},
   "outputs": [
    {
     "name": "stdout",
     "output_type": "stream",
     "text": [
      "141\n",
      "(2292, 141)\n",
      "(2292, 141)\n",
      "318975\n",
      "[2262, 33]\n",
      "shape (2292, 2016)\n",
      "displacement [-30, 33]\n",
      "overlap 141\n",
      "2322\n",
      "3924\n",
      "(2322, 3924)\n",
      "141\n",
      "(2322, 141)\n",
      "(2292, 141)\n",
      "Image shapes needs to be equal\n",
      "0\n"
     ]
    },
    {
     "ename": "TypeError",
     "evalue": "'>' not supported between instances of 'NoneType' and 'float'",
     "output_type": "error",
     "traceback": [
      "\u001b[1;31m---------------------------------------------------------------------------\u001b[0m",
      "\u001b[1;31mTypeError\u001b[0m                                 Traceback (most recent call last)",
      "\u001b[1;32mc:\\Users\\sondr\\OneDrive - NTNU\\KodeTesting\\python\\test.ipynb Cell 9\u001b[0m line \u001b[0;36m2\n\u001b[0;32m     <a href='vscode-notebook-cell:/c%3A/Users/sondr/OneDrive%20-%20NTNU/KodeTesting/python/test.ipynb#X12sZmlsZQ%3D%3D?line=20'>21</a>\u001b[0m p_overlap \u001b[39m=\u001b[39m getOverlapPixels(img1\u001b[39m.\u001b[39mshape, \u001b[39m5\u001b[39m, \u001b[39m2\u001b[39m, \u001b[39m\"\u001b[39m\u001b[39mRIGHT\u001b[39m\u001b[39m\"\u001b[39m)\n\u001b[0;32m     <a href='vscode-notebook-cell:/c%3A/Users/sondr/OneDrive%20-%20NTNU/KodeTesting/python/test.ipynb#X12sZmlsZQ%3D%3D?line=23'>24</a>\u001b[0m img_stitch1 \u001b[39m=\u001b[39m stitch(img1, img2, p_overlap)\n\u001b[1;32m---> <a href='vscode-notebook-cell:/c%3A/Users/sondr/OneDrive%20-%20NTNU/KodeTesting/python/test.ipynb#X12sZmlsZQ%3D%3D?line=24'>25</a>\u001b[0m img_stitch2 \u001b[39m=\u001b[39m stitch(img_stitch1, img3, p_overlap)\n\u001b[0;32m     <a href='vscode-notebook-cell:/c%3A/Users/sondr/OneDrive%20-%20NTNU/KodeTesting/python/test.ipynb#X12sZmlsZQ%3D%3D?line=26'>27</a>\u001b[0m cv\u001b[39m.\u001b[39mimshow(\u001b[39m\"\u001b[39m\u001b[39mstitch\u001b[39m\u001b[39m\"\u001b[39m, img_stitch2)\n\u001b[0;32m     <a href='vscode-notebook-cell:/c%3A/Users/sondr/OneDrive%20-%20NTNU/KodeTesting/python/test.ipynb#X12sZmlsZQ%3D%3D?line=27'>28</a>\u001b[0m cv\u001b[39m.\u001b[39mwaitKey(\u001b[39m0\u001b[39m)\n",
      "\u001b[1;32mc:\\Users\\sondr\\OneDrive - NTNU\\KodeTesting\\python\\test.ipynb Cell 9\u001b[0m line \u001b[0;36m1\n\u001b[0;32m    <a href='vscode-notebook-cell:/c%3A/Users/sondr/OneDrive%20-%20NTNU/KodeTesting/python/test.ipynb#X12sZmlsZQ%3D%3D?line=112'>113</a>\u001b[0m res \u001b[39m=\u001b[39m phaseCorrelation(d_l, k_l)\n\u001b[0;32m    <a href='vscode-notebook-cell:/c%3A/Users/sondr/OneDrive%20-%20NTNU/KodeTesting/python/test.ipynb#X12sZmlsZQ%3D%3D?line=115'>116</a>\u001b[0m \u001b[39mprint\u001b[39m(np\u001b[39m.\u001b[39margmax(res))\n\u001b[1;32m--> <a href='vscode-notebook-cell:/c%3A/Users/sondr/OneDrive%20-%20NTNU/KodeTesting/python/test.ipynb#X12sZmlsZQ%3D%3D?line=116'>117</a>\u001b[0m displacement, vis_fig \u001b[39m=\u001b[39m getDisplacement(res)\n\u001b[0;32m    <a href='vscode-notebook-cell:/c%3A/Users/sondr/OneDrive%20-%20NTNU/KodeTesting/python/test.ipynb#X12sZmlsZQ%3D%3D?line=120'>121</a>\u001b[0m snip1, snip2, snipOverlap \u001b[39m=\u001b[39m getStitchCoordinates(displacement, l\u001b[39m.\u001b[39mshape, p_overlap, \u001b[39mdir\u001b[39m)\n\u001b[0;32m    <a href='vscode-notebook-cell:/c%3A/Users/sondr/OneDrive%20-%20NTNU/KodeTesting/python/test.ipynb#X12sZmlsZQ%3D%3D?line=121'>122</a>\u001b[0m out \u001b[39m=\u001b[39m genOutput(l\u001b[39m.\u001b[39mshape, displacement, p_overlap)\n",
      "\u001b[1;32mc:\\Users\\sondr\\OneDrive - NTNU\\KodeTesting\\python\\test.ipynb Cell 9\u001b[0m line \u001b[0;36m2\n\u001b[0;32m     <a href='vscode-notebook-cell:/c%3A/Users/sondr/OneDrive%20-%20NTNU/KodeTesting/python/test.ipynb#X12sZmlsZQ%3D%3D?line=24'>25</a>\u001b[0m \u001b[39mdef\u001b[39;00m \u001b[39mgetDisplacement\u001b[39m(correlation):\n\u001b[1;32m---> <a href='vscode-notebook-cell:/c%3A/Users/sondr/OneDrive%20-%20NTNU/KodeTesting/python/test.ipynb#X12sZmlsZQ%3D%3D?line=25'>26</a>\u001b[0m     vis_fig \u001b[39m=\u001b[39m np\u001b[39m.\u001b[39mwhere(correlation \u001b[39m>\u001b[39;49m \u001b[39m10E-10\u001b[39;49m, correlation, \u001b[39m0\u001b[39m)\n\u001b[0;32m     <a href='vscode-notebook-cell:/c%3A/Users/sondr/OneDrive%20-%20NTNU/KodeTesting/python/test.ipynb#X12sZmlsZQ%3D%3D?line=27'>28</a>\u001b[0m     displacement \u001b[39m=\u001b[39m \u001b[39mlist\u001b[39m(np\u001b[39m.\u001b[39munravel_index(correlation\u001b[39m.\u001b[39margmax(), correlation\u001b[39m.\u001b[39mshape))\n\u001b[0;32m     <a href='vscode-notebook-cell:/c%3A/Users/sondr/OneDrive%20-%20NTNU/KodeTesting/python/test.ipynb#X12sZmlsZQ%3D%3D?line=28'>29</a>\u001b[0m     \u001b[39mprint\u001b[39m(displacement)\n",
      "\u001b[1;31mTypeError\u001b[0m: '>' not supported between instances of 'NoneType' and 'float'"
     ]
    }
   ],
   "source": [
    "\n",
    "path1 = R\"C:\\Users\\sondr\\OneDrive - NTNU\\KodeTesting\\python\\image_stitching\\out\\dsd_10_MMStack_1-Pos000_000.ome.jpg\"\n",
    "path2 = R\"C:\\Users\\sondr\\OneDrive - NTNU\\KodeTesting\\python\\image_stitching\\out\\dsd_10_MMStack_1-Pos001_000.ome.jpg\"\n",
    "path3 = R\"C:\\Users\\sondr\\OneDrive - NTNU\\KodeTesting\\python\\image_stitching\\out\\dsd_10_MMStack_1-Pos002_000.ome.jpg\"\n",
    "path4 = R\"C:\\Users\\sondr\\OneDrive - NTNU\\KodeTesting\\python\\image_stitching\\out\\dsd_10_MMStack_1-Pos003_000.ome.jpg\"\n",
    "path5 = R\"C:\\Users\\sondr\\OneDrive - NTNU\\KodeTesting\\python\\image_stitching\\out\\dsd_10_MMStack_1-Pos004_000.ome.jpg\"\n",
    "\n",
    "# path1 = R\"C:\\Users\\sondr\\OneDrive\\Dokumenter\\a\\Prosjektoppgave\\Testing\\MIST_test\\img_r000_c000.jpg\"\n",
    "# path2 = R\"C:\\Users\\sondr\\OneDrive\\Dokumenter\\a\\Prosjektoppgave\\Testing\\MIST_test\\img_r000_c001.jpg\"\n",
    "\n",
    "\n",
    "img1 = cv.imread(path1, cv.IMREAD_GRAYSCALE)\n",
    "img2 = cv.imread(path2, cv.IMREAD_GRAYSCALE)\n",
    "img3 = cv.imread(path3, cv.IMREAD_GRAYSCALE)\n",
    "img4 = cv.imread(path4, cv.IMREAD_GRAYSCALE)\n",
    "img5 = cv.imread(path5, cv.IMREAD_GRAYSCALE)\n",
    "\n",
    "\n",
    "# img1_g = cv.GaussianBlur(img1, (11, 11), 0)\n",
    "# img2_g = cv.GaussianBlur(img2, (11, 11), 0)\n",
    "\n",
    "p_overlap = getOverlapPixels(img1.shape, 5, 2, \"RIGHT\")\n",
    "\n",
    "\n",
    "img_stitch1 = stitch(img1, img2, p_overlap)\n",
    "img_stitch2 = stitch(img_stitch1, img3, p_overlap)\n",
    "\n",
    "cv.imshow(\"stitch\", img_stitch2)\n",
    "cv.waitKey(0)\n",
    "cv.destroyAllWindows()\n"
   ]
  },
  {
   "cell_type": "code",
   "execution_count": null,
   "metadata": {},
   "outputs": [
    {
     "name": "stdout",
     "output_type": "stream",
     "text": [
      "212\n",
      "212\n"
     ]
    },
    {
     "data": {
      "image/png": "[encoded data removed]",
      "text/plain": [
       "<Figure size 640x480 with 1 Axes>"
      ]
     },
     "metadata": {},
     "output_type": "display_data"
    },
    {
     "data": {
      "image/png": "[encoded data removed]",
      "text/plain": [
       "<Figure size 640x480 with 1 Axes>"
      ]
     },
     "metadata": {},
     "output_type": "display_data"
    }
   ],
   "source": [
    "import matplotlib.pyplot as plt\n",
    "\n",
    "hist_1 = cv.calcHist([img1_g], [0], None, [256], [0, 256])\n",
    "hist_2 = cv.calcHist([img2_g], [0], None, [256], [0, 256])\n",
    "\n",
    "\n",
    "# plot the histogram\n",
    "print(np.amax(img1_g))\n",
    "print(np.amax(img1_g))\n",
    "plt.figure()\n",
    "plt.title(\"Grayscale Histogram\")\n",
    "plt.xlabel(\"Bins\")\n",
    "plt.ylabel(\"# of Pixels\")\n",
    "plt.plot(hist_1)\n",
    "plt.xlim([0, 256])\n",
    "plt.show()\n",
    "plt.title(\"Grayscale Histogram\")\n",
    "plt.xlabel(\"Bins\")\n",
    "plt.ylabel(\"# of Pixels\")\n",
    "plt.plot(hist_1)\n",
    "plt.xlim([0, 256])\n",
    "plt.show()"
   ]
  },
  {
   "cell_type": "code",
   "execution_count": null,
   "metadata": {},
   "outputs": [
    {
     "name": "stdout",
     "output_type": "stream",
     "text": [
      "[  0 200 144 254]\n",
      "[  0. 100.  72. 127.]\n",
      "[  0 200 400 510]\n",
      "[  0 200 400 510]\n",
      "[  0 200 144 254]\n",
      "\n"
     ]
    }
   ],
   "source": [
    "arr = np.array([0, 100, 200, 255]).astype(np.uint8)\n",
    "arr2 = arr.copy()\n",
    "print(arr + arr2)\n",
    "print((arr + arr2)/2)\n",
    "print(arr.astype(np.uint16) + arr2)\n",
    "print(arr.astype(np.uint16) + arr2.astype(np.uint16))\n",
    "print((arr.astype(np.uint16) + arr2.astype(np.uint16)).astype(np.uint8))\n",
    "print()"
   ]
  },
  {
   "cell_type": "code",
   "execution_count": null,
   "metadata": {},
   "outputs": [
    {
     "name": "stdout",
     "output_type": "stream",
     "text": [
      "(10, 7)\n",
      "[[0.85534533 0.93941306 0.96923323 0.93941306 0.85534533 0.73161563\n",
      "  0.58786967]\n",
      " [0.8824969  0.96923323 1.         0.96923323 0.8824969  0.7548396\n",
      "  0.60653066]\n",
      " [0.85534533 0.93941306 0.96923323 0.93941306 0.85534533 0.73161563\n",
      "  0.58786967]\n",
      " [0.77880078 0.85534533 0.8824969  0.85534533 0.77880078 0.66614361\n",
      "  0.53526143]\n",
      " [0.66614361 0.73161563 0.7548396  0.73161563 0.66614361 0.56978282\n",
      "  0.45783336]\n",
      " [0.53526143 0.58786967 0.60653066 0.58786967 0.53526143 0.45783336\n",
      "  0.36787944]\n",
      " [0.40403652 0.44374731 0.45783336 0.44374731 0.40403652 0.34559075\n",
      "  0.27768997]\n",
      " [0.2865048  0.31466396 0.32465247 0.31466396 0.2865048  0.24506054\n",
      "  0.19691168]\n",
      " [0.19085334 0.20961139 0.21626517 0.20961139 0.19085334 0.16324551\n",
      "  0.13117145]\n",
      " [0.11943297 0.13117145 0.13533528 0.13117145 0.11943297 0.10215643\n",
      "  0.082085  ]]\n"
     ]
    }
   ],
   "source": [
    "import numpy as np\n",
    "\n",
    "\n",
    "def generatePeakBias(shape, peak_coordinates):\n",
    "    f = 2.5 # TODO: optimize this constant, distance penalty factor\n",
    "    \n",
    "    \n",
    "    x, y = np.meshgrid(np.arange(shape[1]), np.arange(shape[0]))\n",
    "    \n",
    "    distances = np.sqrt((x - peak_coordinates[0])**2 + (y - peak_coordinates[1])**2)\n",
    "    s = np.full(shape, np.amax(distances))\n",
    "    distances = np.exp(-f*(distances/s)**2)\n",
    "    return distances\n",
    "\n",
    "\n",
    "\n",
    "bias = generatePeakBias([10, 7], (2, 1))\n",
    "print(bias.shape)\n",
    "print(bias)\n",
    "\n"
   ]
  },
  {
   "cell_type": "code",
   "execution_count": null,
   "metadata": {},
   "outputs": [],
   "source": []
  }
 ],
 "metadata": {
  "kernelspec": {
   "display_name": "machinevision",
   "language": "python",
   "name": "python3"
  },
  "language_info": {
   "codemirror_mode": {
    "name": "ipython",
    "version": 3
   },
   "file_extension": ".py",
   "mimetype": "text/x-python",
   "name": "python",
   "nbconvert_exporter": "python",
   "pygments_lexer": "ipython3",
   "version": "3.9.18"
  },
  "orig_nbformat": 4
 },
 "nbformat": 4,
 "nbformat_minor": 2
}
